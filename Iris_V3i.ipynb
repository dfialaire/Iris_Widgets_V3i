{
 "cells": [
  {
   "cell_type": "code",
   "execution_count": 1,
   "metadata": {},
   "outputs": [],
   "source": [
    "#########\n",
    "from ipywidgets import *\n",
    "import io\n",
    "import cv2\n",
    "import PIL.Image\n",
    "from scipy.ndimage import filters\n",
    "import numpy as np\n",
    "##########\n",
    "from IPython.display import display, clear_output\n",
    "from ipywebrtc import CameraStream, ImageRecorder"
   ]
  },
  {
   "cell_type": "code",
   "execution_count": 2,
   "metadata": {},
   "outputs": [],
   "source": [
    "############\n",
    "def f(change):\n",
    "    a=change['new']\n",
    "    im_in = PIL.Image.open(io.BytesIO(image_headline2.value))\n",
    "    im_array = np.array(im_in)#[..., :3]\n",
    "#     ####\n",
    "    mask_circle = np.zeros(im_array.shape[:2],np.uint8)\n",
    "    cv2.circle(mask_circle,(320,240), a, 255, -1)\n",
    "    new = cv2.bitwise_and(im_array, im_array, mask=mask_circle)    \n",
    "    fmt = 'png'\n",
    "    data_comp = compress_to_bytes(new, fmt)\n",
    "    image_headline.value=data_comp\n",
    "    #####\n",
    "    data_comp2 = compress_to_bytes(im_array, fmt)\n",
    "    image_headline2.value=data_comp2\n",
    "############\n",
    "def g(b):\n",
    "    im_in = PIL.Image.open(io.BytesIO(image_headline2.value))\n",
    "    im_array = np.array(im_in)#[..., :3]\n",
    "\n",
    "    img_rgb = cv2.flip(im_array, 1)\n",
    "\n",
    "    mask_circle = np.zeros(img_rgb.shape[:2],np.uint8)\n",
    "    cv2.circle(mask_circle,(320,240), a.value, 255, -1)\n",
    "    new = cv2.bitwise_and(img_rgb, img_rgb, mask=mask_circle)  \n",
    "    fmt = 'png'\n",
    "    data_comp = compress_to_bytes(new, fmt)\n",
    "    image_headline.value=data_comp\n",
    "    #####\n",
    "    data_comp = compress_to_bytes(img_rgb, fmt)\n",
    "    image_headline2.value=data_comp\n",
    "            #################################\n",
    "def Recup_image(_):\n",
    "    im_in = PIL.Image.open(io.BytesIO(image_recorder.image.value))\n",
    "    im_array = np.array(im_in)#[..., :3]\n",
    "    ####\n",
    "    mask_circle = np.zeros(im_array.shape[:2],np.uint8)\n",
    "    cv2.circle(mask_circle,(320,240), a.value, 255, -1)\n",
    "    img_rgb = cv2.bitwise_and(im_array, im_array, mask=mask_circle)    \n",
    "    ####\n",
    "    fmt = 'png'\n",
    "    data_comp = compress_to_bytes(img_rgb, fmt)\n",
    "    image_headline.value = data_comp\n",
    "#     print(\"8888888888888888\")\n",
    "    ####\n",
    "    data_comp2 = compress_to_bytes(im_array, fmt)\n",
    "    image_headline2.value = data_comp2\n",
    "                #################################\n",
    "def compress_to_bytes(data, fmt):\n",
    "    \"\"\"\n",
    "    Helper function to compress image data via PIL/Pillow.\n",
    "    \"\"\"\n",
    "    buff = io.BytesIO()\n",
    "    img = PIL.Image.fromarray(data)    \n",
    "    img.save(buff, format=fmt)\n",
    "    return buff.getvalue()\n",
    "##########\n",
    "def arrete_tout(_):\n",
    "    Widget.close_all()"
   ]
  },
  {
   "cell_type": "code",
   "execution_count": 4,
   "metadata": {},
   "outputs": [
    {
     "data": {
      "application/vnd.jupyter.widget-view+json": {
       "model_id": "",
       "version_major": 2,
       "version_minor": 0
      },
      "text/plain": [
       "Image(value=b'\\x89PNG\\r\\n\\x1a\\n\\x00\\x00\\x00\\rIHDR\\x00\\x00\\x05\\x00\\x00\\x00\\x01\\xe0\\x08\\x02\\x00\\x00\\x00u\\x8dW1\\x…"
      ]
     },
     "metadata": {},
     "output_type": "display_data"
    },
    {
     "data": {
      "application/vnd.jupyter.widget-view+json": {
       "model_id": "",
       "version_major": 2,
       "version_minor": 0
      },
      "text/plain": [
       "IntSlider(value=150, description='a', max=238, min=150)"
      ]
     },
     "metadata": {},
     "output_type": "display_data"
    },
    {
     "data": {
      "application/vnd.jupyter.widget-view+json": {
       "model_id": "",
       "version_major": 2,
       "version_minor": 0
      },
      "text/plain": [
       "IntSlider(value=0, description='b', max=1)"
      ]
     },
     "metadata": {},
     "output_type": "display_data"
    },
    {
     "data": {
      "application/vnd.jupyter.widget-view+json": {
       "model_id": "",
       "version_major": 2,
       "version_minor": 0
      },
      "text/plain": [
       "Button(button_style='info', description=\"Arreter l'appli\", style=ButtonStyle(), tooltip='Arreter Camera')"
      ]
     },
     "metadata": {},
     "output_type": "display_data"
    },
    {
     "data": {
      "application/vnd.jupyter.widget-view+json": {
       "model_id": "",
       "version_major": 2,
       "version_minor": 0
      },
      "text/plain": [
       "HBox(children=(CameraStream(constraints={'facing_mode': 'user', 'audio': False, 'video': {'width': 640, 'heigh…"
      ]
     },
     "metadata": {},
     "output_type": "display_data"
    }
   ],
   "source": [
    "img = cv2.imread(\"Bienvenue.png\", cv2.IMREAD_COLOR)\n",
    "img_rgb = cv2.cvtColor(img, cv2.COLOR_BGR2RGB)\n",
    "fmt = 'png'\n",
    "data_comp = compress_to_bytes(img_rgb, fmt)\n",
    "image_headline = widgets.Image(value=data_comp,format='jpg',width='640')\n",
    "image_headline2 = widgets.Image(value=data_comp,format='jpg',width='640')\n",
    "            #################################\n",
    "display(image_headline)\n",
    "            #################################\n",
    "a = widgets.IntSlider(min = 150, max = 238,  value = 150 , description='a')\n",
    "b = widgets.IntSlider(min = 0, max = 1,  value = 0 , description='b')\n",
    "display(a)\n",
    "display(b)\n",
    "a.observe(f, names='value')\n",
    "b.observe(g, names='value')\n",
    "btn_arret_cam = Button(description=\"Arreter l'appli\",tooltip='Arreter Camera',button_style='info')\n",
    "btn_arret_cam.on_click(arrete_tout)\n",
    "display(btn_arret_cam)\n",
    "camera = CameraStream(constraints={'facing_mode': 'user','audio': False,'video': { 'width': 640, 'height': 480}})\n",
    "image_recorder = ImageRecorder(stream=camera, tooltip='Cliquer pour tenter une Capture')\n",
    "btn_stop = Button(description=\"Ok\",tooltip='Cette capture est Ok ?',button_style='danger')\n",
    "btn_stop.on_click(Recup_image)\n",
    "\n",
    "yo=HBox([camera,image_recorder, btn_stop])\n",
    "display(yo)"
   ]
  },
  {
   "cell_type": "code",
   "execution_count": 5,
   "metadata": {},
   "outputs": [],
   "source": [
    "# Widget.close_all()"
   ]
  }
 ],
 "metadata": {
  "kernelspec": {
   "display_name": "Python 3",
   "language": "python",
   "name": "python3"
  },
  "language_info": {
   "codemirror_mode": {
    "name": "ipython",
    "version": 3
   },
   "file_extension": ".py",
   "mimetype": "text/x-python",
   "name": "python",
   "nbconvert_exporter": "python",
   "pygments_lexer": "ipython3",
   "version": "3.7.10"
  }
 },
 "nbformat": 4,
 "nbformat_minor": 2
}
